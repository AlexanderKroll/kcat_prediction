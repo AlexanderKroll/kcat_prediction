{
 "cells": [
  {
   "cell_type": "markdown",
   "metadata": {},
   "source": [
    "### We used the python code from the GitHub repository \"https://github.com/SysBioChalmers/DLKcat\" to reproduce the DLKcat model and to make predictions for their test set:"
   ]
  },
  {
   "cell_type": "code",
   "execution_count": 1,
   "metadata": {},
   "outputs": [],
   "source": [
    "import numpy as np\n",
    "import pandas as pd\n",
    "import os\n",
    "from os.path import join\n",
    "from sklearn.metrics import mean_squared_error, r2_score\n",
    "from scipy import stats\n",
    "\n",
    "import matplotlib.pyplot as plt\n",
    "from matplotlib.pyplot import figure\n",
    "import matplotlib as mpl\n",
    "import json\n",
    "\n",
    "from Bio import pairwise2\n",
    "from Bio.Emboss.Applications import NeedleCommandline\n",
    "\n",
    "import pickle\n",
    "import torch"
   ]
  },
  {
   "cell_type": "code",
   "execution_count": 5,
   "metadata": {},
   "outputs": [],
   "source": [
    "def load_tensor(file_name, dtype):\n",
    "    return [dtype(d).to(device) for d in np.load(file_name + '.npy', allow_pickle=True)]\n",
    "\n",
    "\n",
    "def load_pickle(file_name):\n",
    "    with open(file_name, 'rb') as f:\n",
    "        return pickle.load(f)\n",
    "\n",
    "def shuffle_dataset(dataset, seed):\n",
    "    np.random.seed(seed)\n",
    "    np.random.shuffle(dataset)\n",
    "    return dataset\n",
    "\n",
    "def split_dataset(dataset, ratio):\n",
    "    n = int(ratio * len(dataset))\n",
    "    dataset_1, dataset_2 = dataset[:n], dataset[n:]\n",
    "    return dataset_1, dataset_2\n",
    "\n",
    "def calculate_identity(fasta_file_1, fasta_file_2):\n",
    "    needle_cline = NeedleCommandline(asequence = fasta_file_1, bsequence = fasta_file_2,\n",
    "                                     gapopen=10, gapextend=0.5,  filter = True)\n",
    "\n",
    "    out = needle_cline()[0]\n",
    "    out = out[out.find(\"Identity\"):]\n",
    "    out = out[:out.find(\"\\n\")]\n",
    "    percent = float(out[out.find(\"(\")+1 :out.find(\")\")-1].replace(\" \", \"\"))\n",
    "    return(percent)\n",
    "\n",
    "device = \"cpu\""
   ]
  },
  {
   "cell_type": "markdown",
   "metadata": {},
   "source": [
    "## 1. Loading results from DLKcat prediction"
   ]
  },
  {
   "cell_type": "code",
   "execution_count": 8,
   "metadata": {},
   "outputs": [
    {
     "data": {
      "text/html": [
       "<div>\n",
       "<style scoped>\n",
       "    .dataframe tbody tr th:only-of-type {\n",
       "        vertical-align: middle;\n",
       "    }\n",
       "\n",
       "    .dataframe tbody tr th {\n",
       "        vertical-align: top;\n",
       "    }\n",
       "\n",
       "    .dataframe thead th {\n",
       "        text-align: right;\n",
       "    }\n",
       "</style>\n",
       "<table border=\"1\" class=\"dataframe\">\n",
       "  <thead>\n",
       "    <tr style=\"text-align: right;\">\n",
       "      <th></th>\n",
       "      <th>y_true</th>\n",
       "      <th>y_pred</th>\n",
       "      <th>Sequence</th>\n",
       "    </tr>\n",
       "  </thead>\n",
       "  <tbody>\n",
       "    <tr>\n",
       "      <th>0</th>\n",
       "      <td>-2.207608</td>\n",
       "      <td>-0.071899</td>\n",
       "      <td>MSAIDCIITAAGLSSRMGQWKMMLPWEQGTILDTSIKNALQFCSRI...</td>\n",
       "    </tr>\n",
       "    <tr>\n",
       "      <th>1</th>\n",
       "      <td>-3.657577</td>\n",
       "      <td>-2.707640</td>\n",
       "      <td>MKEFYLTVEQIGDSIFERYIDSNGRERTREVEYKPSLFAHCPESQA...</td>\n",
       "    </tr>\n",
       "    <tr>\n",
       "      <th>2</th>\n",
       "      <td>0.949390</td>\n",
       "      <td>0.831021</td>\n",
       "      <td>MSPSKMNATVGSTSEVEQKIRQELALSDEVTTIRRNAPAAVLYEDG...</td>\n",
       "    </tr>\n",
       "    <tr>\n",
       "      <th>3</th>\n",
       "      <td>1.672098</td>\n",
       "      <td>1.513026</td>\n",
       "      <td>MKNVGFIGWRGMVGSVLMQRMVEERDFDAIRPVFFSTSQLGQAAPS...</td>\n",
       "    </tr>\n",
       "    <tr>\n",
       "      <th>4</th>\n",
       "      <td>-1.790485</td>\n",
       "      <td>-2.830310</td>\n",
       "      <td>MATSTETISSLAQPFVHLENPINSPLVKETIRPRNDTTITPPPTQW...</td>\n",
       "    </tr>\n",
       "    <tr>\n",
       "      <th>...</th>\n",
       "      <td>...</td>\n",
       "      <td>...</td>\n",
       "      <td>...</td>\n",
       "    </tr>\n",
       "    <tr>\n",
       "      <th>1679</th>\n",
       "      <td>-1.920819</td>\n",
       "      <td>-0.281649</td>\n",
       "      <td>MNYPAEPFRIKSVETVSMIPRDERLKKMQEAGYNTFLLNSKDIYID...</td>\n",
       "    </tr>\n",
       "    <tr>\n",
       "      <th>1680</th>\n",
       "      <td>2.740363</td>\n",
       "      <td>0.945056</td>\n",
       "      <td>MIEADYLVIGAGIAGASTGYWLSAHGRVVVLEREAQPGYHSTGRSA...</td>\n",
       "    </tr>\n",
       "    <tr>\n",
       "      <th>1681</th>\n",
       "      <td>1.198657</td>\n",
       "      <td>1.115256</td>\n",
       "      <td>MNLREKYGEWGLILGATEGVGKAFCEKIAAGGMNVVMVGRREEKLN...</td>\n",
       "    </tr>\n",
       "    <tr>\n",
       "      <th>1682</th>\n",
       "      <td>0.740363</td>\n",
       "      <td>0.917627</td>\n",
       "      <td>MALLSQAGGSYTVVPSGVCSKAGTKAVVSGGVRNLDVLRMKEAFGS...</td>\n",
       "    </tr>\n",
       "    <tr>\n",
       "      <th>1683</th>\n",
       "      <td>1.501059</td>\n",
       "      <td>1.663697</td>\n",
       "      <td>MDFYYLPGSAPCRAVQMTAAAVGVELNLKLTNLMAGEHMKPEFLKI...</td>\n",
       "    </tr>\n",
       "  </tbody>\n",
       "</table>\n",
       "<p>1684 rows × 3 columns</p>\n",
       "</div>"
      ],
      "text/plain": [
       "        y_true    y_pred                                           Sequence\n",
       "0    -2.207608 -0.071899  MSAIDCIITAAGLSSRMGQWKMMLPWEQGTILDTSIKNALQFCSRI...\n",
       "1    -3.657577 -2.707640  MKEFYLTVEQIGDSIFERYIDSNGRERTREVEYKPSLFAHCPESQA...\n",
       "2     0.949390  0.831021  MSPSKMNATVGSTSEVEQKIRQELALSDEVTTIRRNAPAAVLYEDG...\n",
       "3     1.672098  1.513026  MKNVGFIGWRGMVGSVLMQRMVEERDFDAIRPVFFSTSQLGQAAPS...\n",
       "4    -1.790485 -2.830310  MATSTETISSLAQPFVHLENPINSPLVKETIRPRNDTTITPPPTQW...\n",
       "...        ...       ...                                                ...\n",
       "1679 -1.920819 -0.281649  MNYPAEPFRIKSVETVSMIPRDERLKKMQEAGYNTFLLNSKDIYID...\n",
       "1680  2.740363  0.945056  MIEADYLVIGAGIAGASTGYWLSAHGRVVVLEREAQPGYHSTGRSA...\n",
       "1681  1.198657  1.115256  MNLREKYGEWGLILGATEGVGKAFCEKIAAGGMNVVMVGRREEKLN...\n",
       "1682  0.740363  0.917627  MALLSQAGGSYTVVPSGVCSKAGTKAVVSGGVRNLDVLRMKEAFGS...\n",
       "1683  1.501059  1.663697  MDFYYLPGSAPCRAVQMTAAAVGVELNLKLTNLMAGEHMKPEFLKI...\n",
       "\n",
       "[1684 rows x 3 columns]"
      ]
     },
     "execution_count": 8,
     "metadata": {},
     "output_type": "execute_result"
    }
   ],
   "source": [
    "with open(join(\"..\", \"..\", \"data\", \"DLKcat\", \"sequences_test.pkl\"), 'rb') as f:\n",
    "    sequences_test = pickle.load(f)\n",
    "    \n",
    "with open(join(\"..\", \"..\", \"data\", \"DLKcat\", 'sequences_train.pkl'), 'rb') as f:\n",
    "    sequences_train = pickle.load(f)\n",
    "    \n",
    "with open(join(\"..\", \"..\", \"data\", \"DLKcat\", 'y_pred_test.pkl'), 'rb') as f:\n",
    "    y_test_pred = pickle.load(f)\n",
    "\n",
    "interactions = load_tensor(join(\"..\", \"..\", \"data\", \"DLKcat\", 'regression'), torch.FloatTensor)\n",
    "interactions = shuffle_dataset(interactions, 1234)\n",
    "interactions_train, interactions_ = split_dataset(interactions, 0.8)\n",
    "interactions_dev, interactions_test = split_dataset(interactions_, 0.5)\n",
    "\n",
    "#converting kcat values from log2 to log10:\n",
    "interactions_test = [np.log10(2**float(kcat)) for kcat in interactions_test]\n",
    "\n",
    "df_pred = pd.DataFrame({\"y_true\" : interactions_test, \"y_pred\" : y_test_pred, \"Sequence\" : sequences_test})\n",
    "df_pred"
   ]
  },
  {
   "cell_type": "markdown",
   "metadata": {},
   "source": [
    "Calculating RMSE and coefficient of determination R²"
   ]
  },
  {
   "cell_type": "code",
   "execution_count": 9,
   "metadata": {},
   "outputs": [
    {
     "data": {
      "text/plain": [
       "(1.1195636742162083, 0.44447253110852536)"
      ]
     },
     "execution_count": 9,
     "metadata": {},
     "output_type": "execute_result"
    }
   ],
   "source": [
    "np.sqrt(mean_squared_error(interactions_test,y_test_pred)), r2_score(interactions_test,y_test_pred)"
   ]
  },
  {
   "cell_type": "markdown",
   "metadata": {},
   "source": [
    "## 2. Calculating the maximal sequence identity compared to all sequences in the training set:"
   ]
  },
  {
   "cell_type": "markdown",
   "metadata": {},
   "source": [
    "#### (a) Creating Fasta files for all training and test sequences:"
   ]
  },
  {
   "cell_type": "code",
   "execution_count": 29,
   "metadata": {},
   "outputs": [],
   "source": [
    "for ind in df_pred.index:\n",
    "    ofile = open(join(\"..\", \"..\", \"data\", \"DLKcat\", \"Fasta_files\", \"test_seq_\" +str(ind) + \".fasta\", \"w\")\n",
    "    ofile.write(\"> seq_\" + str(ind) + \"\\n\" + df_pred[\"Sequence\"][ind] + \"\\n\")\n",
    "    ofile.close()\n",
    "    \n",
    "for ind in range(len(sequences_train)):\n",
    "    ofile = open(join(\"..\", \"..\", \"data\", \"DLKcat\", \"Fasta_files\", \"Fasta_files\", \"train_seq_\" +str(ind) + \".fasta\", \"w\")\n",
    "    ofile.write(\"> seq_train_\" + str(ind) + \"\\n\" + sequences_train[ind] + \"\\n\")\n",
    "    ofile.close()"
   ]
  },
  {
   "cell_type": "markdown",
   "metadata": {},
   "source": [
    "#### (b) Calculating the maximal pairwise sequence identity:"
   ]
  },
  {
   "cell_type": "code",
   "execution_count": null,
   "metadata": {},
   "outputs": [],
   "source": [
    "'''from Bio.Emboss.Applications import NeedleCommandline\n",
    "import os\n",
    "from os.path import join\n",
    "import pandas as pd\n",
    "import sys\n",
    "import time\n",
    "import numpy as np\n",
    "\n",
    "\n",
    "arg = int(sys.argv[1])\n",
    "\n",
    "    \n",
    "def calculate_identity(fasta_file_1, fasta_file_2):\n",
    "    needle_cline = NeedleCommandline(asequence = fasta_file_1, bsequence = fasta_file_2,\n",
    "                                     gapopen=10, gapextend=0.5,  filter = True)\n",
    "\n",
    "    out = needle_cline()[0]\n",
    "    out = out[out.find(\"Identity\"):]\n",
    "    out = out[:out.find(\"\\n\")]\n",
    "    percent = float(out[out.find(\"(\")+1 :out.find(\")\")-1].replace(\" \", \"\"))\n",
    "    return(percent)\n",
    "\n",
    "\n",
    "identities = []\n",
    "for i in range(13470):\n",
    "    ident = calculate_identity(\n",
    "                fasta_file_1 = join(\"..\", \"..\", \"data\", \"DLKcat\", \"Fasta_files\", \"test_seq_\" + str(arg) + \".fasta\"),\n",
    "               fasta_file_2 = join(\"..\", \"..\", \"data\", \"DLKcat\", \"Fasta_files\", \"train_seq_\" + str(i) + \".fasta\"))\n",
    "    identities.append(ident)\n",
    "\n",
    "\n",
    "ofile = open(join(\"..\", \"..\", \"data\", \"DLKcat\", \"DLkcat_ident\", \"test_seq\" + str(arg) + \".txt\"), \"w\")\n",
    "ofile.write(str(max(identities)))\n",
    "ofile.close()''';"
   ]
  },
  {
   "cell_type": "markdown",
   "metadata": {},
   "source": [
    "Loading the results:"
   ]
  },
  {
   "cell_type": "code",
   "execution_count": 10,
   "metadata": {},
   "outputs": [
    {
     "name": "stderr",
     "output_type": "stream",
     "text": [
      "C:\\Users\\alexk\\anaconda3\\envs\\Predicting_Km\\lib\\site-packages\\ipykernel_launcher.py:8: SettingWithCopyWarning: \n",
      "A value is trying to be set on a copy of a slice from a DataFrame\n",
      "\n",
      "See the caveats in the documentation: https://pandas.pydata.org/pandas-docs/stable/user_guide/indexing.html#returning-a-view-versus-a-copy\n",
      "  \n"
     ]
    },
    {
     "data": {
      "text/html": [
       "<div>\n",
       "<style scoped>\n",
       "    .dataframe tbody tr th:only-of-type {\n",
       "        vertical-align: middle;\n",
       "    }\n",
       "\n",
       "    .dataframe tbody tr th {\n",
       "        vertical-align: top;\n",
       "    }\n",
       "\n",
       "    .dataframe thead th {\n",
       "        text-align: right;\n",
       "    }\n",
       "</style>\n",
       "<table border=\"1\" class=\"dataframe\">\n",
       "  <thead>\n",
       "    <tr style=\"text-align: right;\">\n",
       "      <th></th>\n",
       "      <th>y_true</th>\n",
       "      <th>y_pred</th>\n",
       "      <th>Sequence</th>\n",
       "      <th>max_ident</th>\n",
       "    </tr>\n",
       "  </thead>\n",
       "  <tbody>\n",
       "    <tr>\n",
       "      <th>0</th>\n",
       "      <td>-2.207608</td>\n",
       "      <td>-0.071899</td>\n",
       "      <td>MSAIDCIITAAGLSSRMGQWKMMLPWEQGTILDTSIKNALQFCSRI...</td>\n",
       "      <td>22.8</td>\n",
       "    </tr>\n",
       "    <tr>\n",
       "      <th>1</th>\n",
       "      <td>-3.657577</td>\n",
       "      <td>-2.707640</td>\n",
       "      <td>MKEFYLTVEQIGDSIFERYIDSNGRERTREVEYKPSLFAHCPESQA...</td>\n",
       "      <td>100.0</td>\n",
       "    </tr>\n",
       "    <tr>\n",
       "      <th>2</th>\n",
       "      <td>0.949390</td>\n",
       "      <td>0.831021</td>\n",
       "      <td>MSPSKMNATVGSTSEVEQKIRQELALSDEVTTIRRNAPAAVLYEDG...</td>\n",
       "      <td>100.0</td>\n",
       "    </tr>\n",
       "    <tr>\n",
       "      <th>3</th>\n",
       "      <td>1.672098</td>\n",
       "      <td>1.513026</td>\n",
       "      <td>MKNVGFIGWRGMVGSVLMQRMVEERDFDAIRPVFFSTSQLGQAAPS...</td>\n",
       "      <td>100.0</td>\n",
       "    </tr>\n",
       "    <tr>\n",
       "      <th>4</th>\n",
       "      <td>-1.790485</td>\n",
       "      <td>-2.830310</td>\n",
       "      <td>MATSTETISSLAQPFVHLENPINSPLVKETIRPRNDTTITPPPTQW...</td>\n",
       "      <td>99.4</td>\n",
       "    </tr>\n",
       "    <tr>\n",
       "      <th>...</th>\n",
       "      <td>...</td>\n",
       "      <td>...</td>\n",
       "      <td>...</td>\n",
       "      <td>...</td>\n",
       "    </tr>\n",
       "    <tr>\n",
       "      <th>1679</th>\n",
       "      <td>-1.920819</td>\n",
       "      <td>-0.281649</td>\n",
       "      <td>MNYPAEPFRIKSVETVSMIPRDERLKKMQEAGYNTFLLNSKDIYID...</td>\n",
       "      <td>100.0</td>\n",
       "    </tr>\n",
       "    <tr>\n",
       "      <th>1680</th>\n",
       "      <td>2.740363</td>\n",
       "      <td>0.945056</td>\n",
       "      <td>MIEADYLVIGAGIAGASTGYWLSAHGRVVVLEREAQPGYHSTGRSA...</td>\n",
       "      <td>100.0</td>\n",
       "    </tr>\n",
       "    <tr>\n",
       "      <th>1681</th>\n",
       "      <td>1.198657</td>\n",
       "      <td>1.115256</td>\n",
       "      <td>MNLREKYGEWGLILGATEGVGKAFCEKIAAGGMNVVMVGRREEKLN...</td>\n",
       "      <td>100.0</td>\n",
       "    </tr>\n",
       "    <tr>\n",
       "      <th>1682</th>\n",
       "      <td>0.740363</td>\n",
       "      <td>0.917627</td>\n",
       "      <td>MALLSQAGGSYTVVPSGVCSKAGTKAVVSGGVRNLDVLRMKEAFGS...</td>\n",
       "      <td>99.8</td>\n",
       "    </tr>\n",
       "    <tr>\n",
       "      <th>1683</th>\n",
       "      <td>1.501059</td>\n",
       "      <td>1.663697</td>\n",
       "      <td>MDFYYLPGSAPCRAVQMTAAAVGVELNLKLTNLMAGEHMKPEFLKI...</td>\n",
       "      <td>100.0</td>\n",
       "    </tr>\n",
       "  </tbody>\n",
       "</table>\n",
       "<p>1684 rows × 4 columns</p>\n",
       "</div>"
      ],
      "text/plain": [
       "        y_true    y_pred                                           Sequence  \\\n",
       "0    -2.207608 -0.071899  MSAIDCIITAAGLSSRMGQWKMMLPWEQGTILDTSIKNALQFCSRI...   \n",
       "1    -3.657577 -2.707640  MKEFYLTVEQIGDSIFERYIDSNGRERTREVEYKPSLFAHCPESQA...   \n",
       "2     0.949390  0.831021  MSPSKMNATVGSTSEVEQKIRQELALSDEVTTIRRNAPAAVLYEDG...   \n",
       "3     1.672098  1.513026  MKNVGFIGWRGMVGSVLMQRMVEERDFDAIRPVFFSTSQLGQAAPS...   \n",
       "4    -1.790485 -2.830310  MATSTETISSLAQPFVHLENPINSPLVKETIRPRNDTTITPPPTQW...   \n",
       "...        ...       ...                                                ...   \n",
       "1679 -1.920819 -0.281649  MNYPAEPFRIKSVETVSMIPRDERLKKMQEAGYNTFLLNSKDIYID...   \n",
       "1680  2.740363  0.945056  MIEADYLVIGAGIAGASTGYWLSAHGRVVVLEREAQPGYHSTGRSA...   \n",
       "1681  1.198657  1.115256  MNLREKYGEWGLILGATEGVGKAFCEKIAAGGMNVVMVGRREEKLN...   \n",
       "1682  0.740363  0.917627  MALLSQAGGSYTVVPSGVCSKAGTKAVVSGGVRNLDVLRMKEAFGS...   \n",
       "1683  1.501059  1.663697  MDFYYLPGSAPCRAVQMTAAAVGVELNLKLTNLMAGEHMKPEFLKI...   \n",
       "\n",
       "      max_ident  \n",
       "0          22.8  \n",
       "1         100.0  \n",
       "2         100.0  \n",
       "3         100.0  \n",
       "4          99.4  \n",
       "...         ...  \n",
       "1679      100.0  \n",
       "1680      100.0  \n",
       "1681      100.0  \n",
       "1682       99.8  \n",
       "1683      100.0  \n",
       "\n",
       "[1684 rows x 4 columns]"
      ]
     },
     "execution_count": 10,
     "metadata": {},
     "output_type": "execute_result"
    }
   ],
   "source": [
    "df_pred[\"max_ident\"] = np.nan\n",
    "\n",
    "for ind in df_pred.index:\n",
    "    try:\n",
    "        with open(join(\"..\", \"..\", \"data\", \"DLKcat\", \"DLkcat_ident\", \"test_seq\" + str(ind) + \".txt\")) as f:\n",
    "            ident = f.readlines()\n",
    "            ident = float(ident[0])\n",
    "        df_pred[\"max_ident\"][ind] = ident\n",
    "    except FileNotFoundError:\n",
    "        pass\n",
    "df_pred"
   ]
  },
  {
   "cell_type": "code",
   "execution_count": 11,
   "metadata": {},
   "outputs": [],
   "source": [
    "df_pred.to_pickle(join(\"..\", \"..\", \"data\", \"DLKcat\", \"df_pred.pkl\"))"
   ]
  },
  {
   "cell_type": "markdown",
   "metadata": {},
   "source": [
    "## Calculate model performance for different sequence identities:"
   ]
  },
  {
   "cell_type": "code",
   "execution_count": 12,
   "metadata": {},
   "outputs": [
    {
     "name": "stdout",
     "output_type": "stream",
     "text": [
      "Lower bound: 0, upper bound: 40, no. of data points: 82, R2: -0.6072304105234347, RMSE: 2.0954145982947594\n",
      "Lower bound: 40, upper bound: 80, no. of data points: 42, R2: 0.34280134977895493, RMSE: 1.2434758603533023\n",
      "Lower bound: 80, upper bound: 99, no. of data points: 27, R2: 0.48622435213243465, RMSE: 1.1191845445308464\n",
      "Lower bound: 99, upper bound: 100, no. of data points: 1536, R2: 0.5128517542754034, RMSE: 1.0371892758113466\n"
     ]
    }
   ],
   "source": [
    "lower_bounds = [0, 40, 80, 99]\n",
    "upper_bounds = [40,80,99,100]\n",
    "\n",
    "\n",
    "for i in range(len(lower_bounds)):\n",
    "    lb, ub = lower_bounds[i], upper_bounds[i]\n",
    "    help_df = df_pred.loc[df_pred[\"max_ident\"] >=  lb].loc[df_pred[\"max_ident\"] <= ub]\n",
    "    if len(help_df) > 0:\n",
    "        y_pred, y_true = np.array(help_df[\"y_pred\"]), np.array(help_df[\"y_true\"])\n",
    "        R2 =  r2_score(y_true, y_pred)\n",
    "        RMSE = np.sqrt(mean_squared_error(y_true, y_pred))\n",
    "        \n",
    "        print(\"Lower bound: %s, upper bound: %s, no. of data points: %s, R2: %s, RMSE: %s\" %  (lb, ub, len(help_df), R2, RMSE))"
   ]
  }
 ],
 "metadata": {
  "kernelspec": {
   "display_name": "Python 3 (ipykernel)",
   "language": "python",
   "name": "python3"
  },
  "language_info": {
   "codemirror_mode": {
    "name": "ipython",
    "version": 3
   },
   "file_extension": ".py",
   "mimetype": "text/x-python",
   "name": "python",
   "nbconvert_exporter": "python",
   "pygments_lexer": "ipython3",
   "version": "3.7.13"
  }
 },
 "nbformat": 4,
 "nbformat_minor": 4
}
