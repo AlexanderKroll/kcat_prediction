{
 "cells": [
  {
   "cell_type": "markdown",
   "metadata": {},
   "source": [
    "## In this jupyter notebook, we map KM values to all reactions in the training and the test set.\n",
    "We either map values from the BRENDA database, if avaialable, or we predict KM values using our deep learning KM prediction tool"
   ]
  },
  {
   "cell_type": "code",
   "execution_count": 1,
   "metadata": {},
   "outputs": [],
   "source": [
    "import pandas as pd\n",
    "import os\n",
    "from os.path import join\n",
    "import numpy as np\n",
    "from rdkit import Chem\n",
    "from rdkit.Chem import AllChem\n",
    "#from tensorflow.keras import backend as K\n",
    "import warnings\n",
    "warnings.filterwarnings(\"ignore\")"
   ]
  },
  {
   "cell_type": "markdown",
   "metadata": {},
   "source": [
    "## 1. Loading and preprocessing data"
   ]
  },
  {
   "cell_type": "markdown",
   "metadata": {},
   "source": [
    "#### (a) Loading DataFrames"
   ]
  },
  {
   "cell_type": "code",
   "execution_count": 2,
   "metadata": {},
   "outputs": [],
   "source": [
    "data_train = pd.read_pickle(join(\"..\", \"..\", \"data\", \"kcat_data\", \"splits\", \"train_df_kcat_ts.pkl\"))\n",
    "data_test = pd.read_pickle(join(\"..\", \"..\", \"data\", \"kcat_data\", \"splits\", \"test_df_kcat_ts.pkl\"))\n",
    "\n",
    "data_train[\"Uniprot ID\"] = [UID[0] for UID in data_train[\"Uniprot IDs\"]]\n",
    "data_test[\"Uniprot ID\"] = [UID[0] for UID in data_test[\"Uniprot IDs\"]]\n",
    "\n",
    "data_train.rename(columns = {\"geomean_kcat\" :\"log10_kcat\"}, inplace = True)\n",
    "data_test.rename(columns = {\"geomean_kcat\" :\"log10_kcat\"}, inplace = True)\n",
    "\n",
    "data = pd.concat([data_train, data_test], ignore_index=True)"
   ]
  },
  {
   "cell_type": "markdown",
   "metadata": {},
   "source": [
    "Loading reaction DataFrame and creating ID lists for all substrates and products:"
   ]
  },
  {
   "cell_type": "code",
   "execution_count": 16,
   "metadata": {},
   "outputs": [
    {
     "data": {
      "text/html": [
       "<div>\n",
       "<style scoped>\n",
       "    .dataframe tbody tr th:only-of-type {\n",
       "        vertical-align: middle;\n",
       "    }\n",
       "\n",
       "    .dataframe tbody tr th {\n",
       "        vertical-align: top;\n",
       "    }\n",
       "\n",
       "    .dataframe thead th {\n",
       "        text-align: right;\n",
       "    }\n",
       "</style>\n",
       "<table border=\"1\" class=\"dataframe\">\n",
       "  <thead>\n",
       "    <tr style=\"text-align: right;\">\n",
       "      <th></th>\n",
       "      <th>substrate_InChI_set</th>\n",
       "      <th>product_InChI_set</th>\n",
       "      <th>Reaction ID</th>\n",
       "      <th>MW_frac</th>\n",
       "      <th>structural_fp</th>\n",
       "      <th>difference_fp</th>\n",
       "      <th>#substrates</th>\n",
       "      <th>#products</th>\n",
       "    </tr>\n",
       "  </thead>\n",
       "  <tbody>\n",
       "    <tr>\n",
       "      <th>0</th>\n",
       "      <td>{InChI=1S/C17H21N4O9P/c1-7-3-9-10(4-8(7)2)21(1...</td>\n",
       "      <td>{InChI=1S/C17H23N4O9P/c1-7-3-9-10(4-8(7)2)21(1...</td>\n",
       "      <td>Reaction_0</td>\n",
       "      <td>1.0</td>\n",
       "      <td>1100110100001000000000110111010001000001111010...</td>\n",
       "      <td>[0.0, 0.0, 0.0, 0.0, -10.0, 0.0, 0.0, 0.0, 0.0...</td>\n",
       "      <td>2</td>\n",
       "      <td>2</td>\n",
       "    </tr>\n",
       "    <tr>\n",
       "      <th>1</th>\n",
       "      <td>{InChI=1S/C17H23N4O9P/c1-7-3-9-10(4-8(7)2)21(1...</td>\n",
       "      <td>{InChI=1S/H2O2/c1-2/h1-2H, InChI=1S/C17H21N4O9...</td>\n",
       "      <td>Reaction_1</td>\n",
       "      <td>1.0</td>\n",
       "      <td>1100010100000001010000110110000001000001111000...</td>\n",
       "      <td>[0.0, 0.0, 0.0, 0.0, 10.0, 0.0, 0.0, 0.0, 0.0,...</td>\n",
       "      <td>2</td>\n",
       "      <td>2</td>\n",
       "    </tr>\n",
       "  </tbody>\n",
       "</table>\n",
       "</div>"
      ],
      "text/plain": [
       "                                 substrate_InChI_set  \\\n",
       "0  {InChI=1S/C17H21N4O9P/c1-7-3-9-10(4-8(7)2)21(1...   \n",
       "1  {InChI=1S/C17H23N4O9P/c1-7-3-9-10(4-8(7)2)21(1...   \n",
       "\n",
       "                                   product_InChI_set Reaction ID  MW_frac  \\\n",
       "0  {InChI=1S/C17H23N4O9P/c1-7-3-9-10(4-8(7)2)21(1...  Reaction_0      1.0   \n",
       "1  {InChI=1S/H2O2/c1-2/h1-2H, InChI=1S/C17H21N4O9...  Reaction_1      1.0   \n",
       "\n",
       "                                       structural_fp  \\\n",
       "0  1100110100001000000000110111010001000001111010...   \n",
       "1  1100010100000001010000110110000001000001111000...   \n",
       "\n",
       "                                       difference_fp #substrates #products  \n",
       "0  [0.0, 0.0, 0.0, 0.0, -10.0, 0.0, 0.0, 0.0, 0.0...           2         2  \n",
       "1  [0.0, 0.0, 0.0, 0.0, 10.0, 0.0, 0.0, 0.0, 0.0,...           2         2  "
      ]
     },
     "execution_count": 16,
     "metadata": {},
     "output_type": "execute_result"
    }
   ],
   "source": [
    "reaction_df = pd.read_pickle(join(\"..\", \"..\", \"data\", \"reaction_data\", \"all_reactions_with_IDs_and_FPs.pkl\"))\n",
    "reaction_df.head(2)"
   ]
  },
  {
   "cell_type": "markdown",
   "metadata": {},
   "source": [
    "#### (b) Creating DataFrame with all enzyme-substrate pairs for which we need a KM value:"
   ]
  },
  {
   "cell_type": "code",
   "execution_count": 18,
   "metadata": {},
   "outputs": [
    {
     "data": {
      "text/html": [
       "<div>\n",
       "<style scoped>\n",
       "    .dataframe tbody tr th:only-of-type {\n",
       "        vertical-align: middle;\n",
       "    }\n",
       "\n",
       "    .dataframe tbody tr th {\n",
       "        vertical-align: top;\n",
       "    }\n",
       "\n",
       "    .dataframe thead th {\n",
       "        text-align: right;\n",
       "    }\n",
       "</style>\n",
       "<table border=\"1\" class=\"dataframe\">\n",
       "  <thead>\n",
       "    <tr style=\"text-align: right;\">\n",
       "      <th></th>\n",
       "      <th>Sequence</th>\n",
       "      <th>substrate ID</th>\n",
       "      <th>reaction ID</th>\n",
       "      <th>KM BRENDA</th>\n",
       "      <th>KM predicted</th>\n",
       "    </tr>\n",
       "  </thead>\n",
       "  <tbody>\n",
       "    <tr>\n",
       "      <th>0</th>\n",
       "      <td>MELFLAGRRVLVTGAGKGIGRGTVQALHATGARVVAVSRTQADLDS...</td>\n",
       "      <td>InChI=1S/C21H30N7O17P3/c22-17-12-19(25-7-24-17...</td>\n",
       "      <td>Reaction_127</td>\n",
       "      <td>NaN</td>\n",
       "      <td>NaN</td>\n",
       "    </tr>\n",
       "    <tr>\n",
       "      <th>1</th>\n",
       "      <td>MELFLAGRRVLVTGAGKGIGRGTVQALHATGARVVAVSRTQADLDS...</td>\n",
       "      <td>InChI=1S/C6H10O2/c1-3-4-6(8)5(2)7/h3-4H2,1-2H3</td>\n",
       "      <td>Reaction_127</td>\n",
       "      <td>NaN</td>\n",
       "      <td>NaN</td>\n",
       "    </tr>\n",
       "    <tr>\n",
       "      <th>2</th>\n",
       "      <td>MNYRYPPRYGPEWGSGGIYGLRFHNGTLYFTLAFEGEAHFITEDSH...</td>\n",
       "      <td>InChI=1S/H2O/h1H2</td>\n",
       "      <td>Reaction_796</td>\n",
       "      <td>NaN</td>\n",
       "      <td>NaN</td>\n",
       "    </tr>\n",
       "    <tr>\n",
       "      <th>3</th>\n",
       "      <td>MNYRYPPRYGPEWGSGGIYGLRFHNGTLYFTLAFEGEAHFITEDSH...</td>\n",
       "      <td>InChI=1S/C12H15NO8/c14-5-8-9(15)10(16)11(17)12...</td>\n",
       "      <td>Reaction_796</td>\n",
       "      <td>NaN</td>\n",
       "      <td>NaN</td>\n",
       "    </tr>\n",
       "    <tr>\n",
       "      <th>4</th>\n",
       "      <td>MAVTAQAARRKERVLCLFDVDGTLTPARQKIDPEVAAFLQKLRSRV...</td>\n",
       "      <td>InChI=1S/C6H13O9P/c7-1-2-3(8)4(9)5(10)6(14-2)1...</td>\n",
       "      <td>Reaction_565</td>\n",
       "      <td>NaN</td>\n",
       "      <td>NaN</td>\n",
       "    </tr>\n",
       "    <tr>\n",
       "      <th>...</th>\n",
       "      <td>...</td>\n",
       "      <td>...</td>\n",
       "      <td>...</td>\n",
       "      <td>...</td>\n",
       "      <td>...</td>\n",
       "    </tr>\n",
       "    <tr>\n",
       "      <th>8979</th>\n",
       "      <td>MTERPRDCRPVVRRARTSDVPAIKQLVDTYAGKILLEKNLVTLYEA...</td>\n",
       "      <td>InChI=1S/C5H10N2O3/c6-3(5(9)10)1-2-4(7)8/h3H,1...</td>\n",
       "      <td>Reaction_1253</td>\n",
       "      <td>NaN</td>\n",
       "      <td>NaN</td>\n",
       "    </tr>\n",
       "    <tr>\n",
       "      <th>8980</th>\n",
       "      <td>MTERPRDCRPVVRRARTSDVPAIKQLVDTYAGKILLEKNLVTLYEA...</td>\n",
       "      <td>InChI=1S/C23H38N7O17P3S/c1-12(31)51-7-6-25-14(...</td>\n",
       "      <td>Reaction_1253</td>\n",
       "      <td>NaN</td>\n",
       "      <td>NaN</td>\n",
       "    </tr>\n",
       "    <tr>\n",
       "      <th>8981</th>\n",
       "      <td>MAKMRAVDAAMYVLEKEGITTAFGVPGAAINPFYSAMRKHGGIRHI...</td>\n",
       "      <td>InChI=1S/C2H2O3/c3-1-2(4)5/h1H,(H,4,5)</td>\n",
       "      <td>Reaction_1626</td>\n",
       "      <td>NaN</td>\n",
       "      <td>NaN</td>\n",
       "    </tr>\n",
       "    <tr>\n",
       "      <th>8982</th>\n",
       "      <td>MGAQLSTLGHMVLFPVWFLYSLLMKLFQRSTPAITLESPDIKYPLR...</td>\n",
       "      <td>InChI=1S/6CN.Fe/c6*1-2;/q;;;;;;-3</td>\n",
       "      <td>Reaction_898</td>\n",
       "      <td>NaN</td>\n",
       "      <td>NaN</td>\n",
       "    </tr>\n",
       "    <tr>\n",
       "      <th>8983</th>\n",
       "      <td>MGAQLSTLGHMVLFPVWFLYSLLMKLFQRSTPAITLESPDIKYPLR...</td>\n",
       "      <td>InChI=1S/C21H29N7O14P2/c22-17-12-19(25-7-24-17...</td>\n",
       "      <td>Reaction_898</td>\n",
       "      <td>NaN</td>\n",
       "      <td>NaN</td>\n",
       "    </tr>\n",
       "  </tbody>\n",
       "</table>\n",
       "<p>8984 rows × 5 columns</p>\n",
       "</div>"
      ],
      "text/plain": [
       "                                               Sequence  \\\n",
       "0     MELFLAGRRVLVTGAGKGIGRGTVQALHATGARVVAVSRTQADLDS...   \n",
       "1     MELFLAGRRVLVTGAGKGIGRGTVQALHATGARVVAVSRTQADLDS...   \n",
       "2     MNYRYPPRYGPEWGSGGIYGLRFHNGTLYFTLAFEGEAHFITEDSH...   \n",
       "3     MNYRYPPRYGPEWGSGGIYGLRFHNGTLYFTLAFEGEAHFITEDSH...   \n",
       "4     MAVTAQAARRKERVLCLFDVDGTLTPARQKIDPEVAAFLQKLRSRV...   \n",
       "...                                                 ...   \n",
       "8979  MTERPRDCRPVVRRARTSDVPAIKQLVDTYAGKILLEKNLVTLYEA...   \n",
       "8980  MTERPRDCRPVVRRARTSDVPAIKQLVDTYAGKILLEKNLVTLYEA...   \n",
       "8981  MAKMRAVDAAMYVLEKEGITTAFGVPGAAINPFYSAMRKHGGIRHI...   \n",
       "8982  MGAQLSTLGHMVLFPVWFLYSLLMKLFQRSTPAITLESPDIKYPLR...   \n",
       "8983  MGAQLSTLGHMVLFPVWFLYSLLMKLFQRSTPAITLESPDIKYPLR...   \n",
       "\n",
       "                                           substrate ID    reaction ID  \\\n",
       "0     InChI=1S/C21H30N7O17P3/c22-17-12-19(25-7-24-17...   Reaction_127   \n",
       "1        InChI=1S/C6H10O2/c1-3-4-6(8)5(2)7/h3-4H2,1-2H3   Reaction_127   \n",
       "2                                     InChI=1S/H2O/h1H2   Reaction_796   \n",
       "3     InChI=1S/C12H15NO8/c14-5-8-9(15)10(16)11(17)12...   Reaction_796   \n",
       "4     InChI=1S/C6H13O9P/c7-1-2-3(8)4(9)5(10)6(14-2)1...   Reaction_565   \n",
       "...                                                 ...            ...   \n",
       "8979  InChI=1S/C5H10N2O3/c6-3(5(9)10)1-2-4(7)8/h3H,1...  Reaction_1253   \n",
       "8980  InChI=1S/C23H38N7O17P3S/c1-12(31)51-7-6-25-14(...  Reaction_1253   \n",
       "8981             InChI=1S/C2H2O3/c3-1-2(4)5/h1H,(H,4,5)  Reaction_1626   \n",
       "8982                  InChI=1S/6CN.Fe/c6*1-2;/q;;;;;;-3   Reaction_898   \n",
       "8983  InChI=1S/C21H29N7O14P2/c22-17-12-19(25-7-24-17...   Reaction_898   \n",
       "\n",
       "     KM BRENDA KM predicted  \n",
       "0          NaN          NaN  \n",
       "1          NaN          NaN  \n",
       "2          NaN          NaN  \n",
       "3          NaN          NaN  \n",
       "4          NaN          NaN  \n",
       "...        ...          ...  \n",
       "8979       NaN          NaN  \n",
       "8980       NaN          NaN  \n",
       "8981       NaN          NaN  \n",
       "8982       NaN          NaN  \n",
       "8983       NaN          NaN  \n",
       "\n",
       "[8984 rows x 5 columns]"
      ]
     },
     "execution_count": 18,
     "metadata": {},
     "output_type": "execute_result"
    }
   ],
   "source": [
    "df_KM = pd.DataFrame(columns = [\"Sequence\", \"substrate ID\", \"reaction ID\", \"KM BRENDA\", \"KM predicted\"])\n",
    "\n",
    "for ind in data.index:\n",
    "    reaction_ID = data[\"Reaction ID\"][ind]\n",
    "    seq = data[\"Sequence\"][ind]\n",
    "    if \"_r\" in str(reaction_ID):\n",
    "        ID = reaction_ID.split(\"_r\")[0]\n",
    "        substrate_IDs = list(reaction_df.loc[reaction_df[\"Reaction ID\"] == ID][\"product_InChI_set\"])[0]\n",
    "    else:\n",
    "        substrate_IDs = list(reaction_df.loc[reaction_df[\"Reaction ID\"] == reaction_ID][\"substrate_InChI_set\"])[0]\n",
    "    for sub_ID in list(substrate_IDs):\n",
    "        df_KM = df_KM.append({\"Sequence\": seq, \"substrate ID\": sub_ID,\n",
    "                              \"reaction ID\" : reaction_ID}, ignore_index=True)\n",
    "    \n",
    "df_KM"
   ]
  },
  {
   "cell_type": "markdown",
   "metadata": {},
   "source": [
    "#### (c) Calculating ECFPs for all substrates (for mapping to BRENDA data):"
   ]
  },
  {
   "cell_type": "code",
   "execution_count": 20,
   "metadata": {},
   "outputs": [],
   "source": [
    "df_KM[\"ECFP\"] = [AllChem.GetMorganFingerprintAsBitVect(Chem.inchi.MolFromInchi(Inchi), 3, nBits=1024).ToBitString()\n",
    "                 for Inchi in df_KM[\"substrate ID\"]]"
   ]
  },
  {
   "cell_type": "markdown",
   "metadata": {},
   "source": [
    "## 2. Mapping BRENDA KM values to our data points:"
   ]
  },
  {
   "cell_type": "markdown",
   "metadata": {},
   "source": [
    "We use a DataFrame with KM values from BRENDA from the following GitHub repository: https://github.com/AlexanderKroll/KM_prediction . If multiple KM values existed for the same enzyme-substrate pair, the geometric mean of the KM values was calculated."
   ]
  },
  {
   "cell_type": "code",
   "execution_count": 23,
   "metadata": {},
   "outputs": [],
   "source": [
    "brenda_KM = pd.read_pickle(join(\"..\", \"..\", \"data\", \"KM_data\",\n",
    "                           \"brenda_df_checkpoint_4_KM_new.pkl\"))"
   ]
  },
  {
   "cell_type": "code",
   "execution_count": 24,
   "metadata": {
    "scrolled": true
   },
   "outputs": [],
   "source": [
    "for ind in df_KM.index:\n",
    "    ecfp = df_KM[\"ECFP\"][ind]\n",
    "    seq = df_KM[\"Sequence\"][ind]\n",
    "    help_df = brenda_KM.loc[brenda_KM[\"ECFP\"] == ecfp].loc[brenda_KM[\"Sequence\"] == seq]\n",
    "\n",
    "    if len(help_df) > 0:\n",
    "        df_KM[\"KM BRENDA\"][ind] = np.log10(list(help_df[\"Km\"])[0])"
   ]
  },
  {
   "cell_type": "markdown",
   "metadata": {},
   "source": [
    "For how many enzmye-substrate pairs were we able to find a KM value from BRENDA?"
   ]
  },
  {
   "cell_type": "code",
   "execution_count": 25,
   "metadata": {},
   "outputs": [
    {
     "data": {
      "text/plain": [
       "0.07435440783615316"
      ]
     },
     "execution_count": 25,
     "metadata": {},
     "output_type": "execute_result"
    }
   ],
   "source": [
    "len(df_KM.loc[~pd.isnull(df_KM[\"KM BRENDA\"])])/len(df_KM)"
   ]
  },
  {
   "cell_type": "code",
   "execution_count": 26,
   "metadata": {},
   "outputs": [],
   "source": [
    "df_KM.to_pickle(join(\"..\", \"..\", \"data\",\"KM_data\", \"df_KM.pkl\"))"
   ]
  },
  {
   "cell_type": "code",
   "execution_count": 4,
   "metadata": {},
   "outputs": [
    {
     "data": {
      "text/html": [
       "<div>\n",
       "<style scoped>\n",
       "    .dataframe tbody tr th:only-of-type {\n",
       "        vertical-align: middle;\n",
       "    }\n",
       "\n",
       "    .dataframe tbody tr th {\n",
       "        vertical-align: top;\n",
       "    }\n",
       "\n",
       "    .dataframe thead th {\n",
       "        text-align: right;\n",
       "    }\n",
       "</style>\n",
       "<table border=\"1\" class=\"dataframe\">\n",
       "  <thead>\n",
       "    <tr style=\"text-align: right;\">\n",
       "      <th></th>\n",
       "      <th>Sequence</th>\n",
       "      <th>substrate ID</th>\n",
       "      <th>reaction ID</th>\n",
       "      <th>KM BRENDA</th>\n",
       "      <th>KM predicted</th>\n",
       "      <th>ECFP</th>\n",
       "    </tr>\n",
       "  </thead>\n",
       "  <tbody>\n",
       "    <tr>\n",
       "      <th>0</th>\n",
       "      <td>MELFLAGRRVLVTGAGKGIGRGTVQALHATGARVVAVSRTQADLDS...</td>\n",
       "      <td>InChI=1S/C21H30N7O17P3/c22-17-12-19(25-7-24-17...</td>\n",
       "      <td>Reaction_127</td>\n",
       "      <td>NaN</td>\n",
       "      <td>NaN</td>\n",
       "      <td>0000000001000000100000000000100000000000000000...</td>\n",
       "    </tr>\n",
       "    <tr>\n",
       "      <th>1</th>\n",
       "      <td>MELFLAGRRVLVTGAGKGIGRGTVQALHATGARVVAVSRTQADLDS...</td>\n",
       "      <td>InChI=1S/C6H10O2/c1-3-4-6(8)5(2)7/h3-4H2,1-2H3</td>\n",
       "      <td>Reaction_127</td>\n",
       "      <td>NaN</td>\n",
       "      <td>NaN</td>\n",
       "      <td>0000000000000000000000000000000001000000000000...</td>\n",
       "    </tr>\n",
       "  </tbody>\n",
       "</table>\n",
       "</div>"
      ],
      "text/plain": [
       "                                            Sequence  \\\n",
       "0  MELFLAGRRVLVTGAGKGIGRGTVQALHATGARVVAVSRTQADLDS...   \n",
       "1  MELFLAGRRVLVTGAGKGIGRGTVQALHATGARVVAVSRTQADLDS...   \n",
       "\n",
       "                                        substrate ID   reaction ID KM BRENDA  \\\n",
       "0  InChI=1S/C21H30N7O17P3/c22-17-12-19(25-7-24-17...  Reaction_127       NaN   \n",
       "1     InChI=1S/C6H10O2/c1-3-4-6(8)5(2)7/h3-4H2,1-2H3  Reaction_127       NaN   \n",
       "\n",
       "  KM predicted                                               ECFP  \n",
       "0          NaN  0000000001000000100000000000100000000000000000...  \n",
       "1          NaN  0000000000000000000000000000000001000000000000...  "
      ]
     },
     "execution_count": 4,
     "metadata": {},
     "output_type": "execute_result"
    }
   ],
   "source": [
    "df_KM = pd.read_pickle(join(\"..\", \"..\", \"data\",\"KM_data\", \"df_KM.pkl\"))\n",
    "df_KM.head(2)"
   ]
  },
  {
   "cell_type": "markdown",
   "metadata": {},
   "source": [
    "## 3. Predicting KM values using a machine learning model"
   ]
  },
  {
   "cell_type": "markdown",
   "metadata": {},
   "source": [
    "We used the function implemented in the GitHub repository \"https://github.com/AlexanderKroll/KM_prediction_function\" to make predictions for missing KM values. Here, we load the resulting DataFrame:"
   ]
  },
  {
   "cell_type": "code",
   "execution_count": 6,
   "metadata": {},
   "outputs": [],
   "source": [
    "df_KM = pd.read_pickle(join(\"..\", \"..\", \"data\",\"KM_data\", \"df_KM_with_predictions.pkl\"))"
   ]
  },
  {
   "cell_type": "code",
   "execution_count": 8,
   "metadata": {},
   "outputs": [],
   "source": [
    "import matplotlib.pyplot as plt"
   ]
  },
  {
   "cell_type": "code",
   "execution_count": 11,
   "metadata": {},
   "outputs": [
    {
     "data": {
      "text/html": [
       "<div>\n",
       "<style scoped>\n",
       "    .dataframe tbody tr th:only-of-type {\n",
       "        vertical-align: middle;\n",
       "    }\n",
       "\n",
       "    .dataframe tbody tr th {\n",
       "        vertical-align: top;\n",
       "    }\n",
       "\n",
       "    .dataframe thead th {\n",
       "        text-align: right;\n",
       "    }\n",
       "</style>\n",
       "<table border=\"1\" class=\"dataframe\">\n",
       "  <thead>\n",
       "    <tr style=\"text-align: right;\">\n",
       "      <th></th>\n",
       "      <th>Sequence</th>\n",
       "      <th>substrate ID</th>\n",
       "      <th>reaction ID</th>\n",
       "      <th>KM BRENDA</th>\n",
       "      <th>KM predicted</th>\n",
       "      <th>ECFP</th>\n",
       "      <th>prediction method</th>\n",
       "      <th>KM [mM] (predicted)</th>\n",
       "    </tr>\n",
       "  </thead>\n",
       "  <tbody>\n",
       "    <tr>\n",
       "      <th>0</th>\n",
       "      <td>MELFLAGRRVLVTGAGKGIGRGTVQALHATGARVVAVSRTQADLDS...</td>\n",
       "      <td>InChI=1S/C21H30N7O17P3/c22-17-12-19(25-7-24-17...</td>\n",
       "      <td>Reaction_127</td>\n",
       "      <td>NaN</td>\n",
       "      <td>NaN</td>\n",
       "      <td>0000000001000000100000000000100000000000000000...</td>\n",
       "      <td>enzyme and substrate information</td>\n",
       "      <td>0.010457</td>\n",
       "    </tr>\n",
       "    <tr>\n",
       "      <th>1</th>\n",
       "      <td>MELFLAGRRVLVTGAGKGIGRGTVQALHATGARVVAVSRTQADLDS...</td>\n",
       "      <td>InChI=1S/C6H10O2/c1-3-4-6(8)5(2)7/h3-4H2,1-2H3</td>\n",
       "      <td>Reaction_127</td>\n",
       "      <td>NaN</td>\n",
       "      <td>NaN</td>\n",
       "      <td>0000000000000000000000000000000001000000000000...</td>\n",
       "      <td>enzyme and substrate information</td>\n",
       "      <td>0.227367</td>\n",
       "    </tr>\n",
       "    <tr>\n",
       "      <th>2</th>\n",
       "      <td>MNYRYPPRYGPEWGSGGIYGLRFHNGTLYFTLAFEGEAHFITEDSH...</td>\n",
       "      <td>InChI=1S/H2O/h1H2</td>\n",
       "      <td>Reaction_796</td>\n",
       "      <td>NaN</td>\n",
       "      <td>NaN</td>\n",
       "      <td>0000000000000000000000000000000000000000000000...</td>\n",
       "      <td>enzyme and substrate information</td>\n",
       "      <td>1.640480</td>\n",
       "    </tr>\n",
       "    <tr>\n",
       "      <th>3</th>\n",
       "      <td>MNYRYPPRYGPEWGSGGIYGLRFHNGTLYFTLAFEGEAHFITEDSH...</td>\n",
       "      <td>InChI=1S/C12H15NO8/c14-5-8-9(15)10(16)11(17)12...</td>\n",
       "      <td>Reaction_796</td>\n",
       "      <td>NaN</td>\n",
       "      <td>NaN</td>\n",
       "      <td>0000000000000100000000000000000000000011000000...</td>\n",
       "      <td>enzyme and substrate information</td>\n",
       "      <td>0.067011</td>\n",
       "    </tr>\n",
       "    <tr>\n",
       "      <th>4</th>\n",
       "      <td>MAVTAQAARRKERVLCLFDVDGTLTPARQKIDPEVAAFLQKLRSRV...</td>\n",
       "      <td>InChI=1S/C6H13O9P/c7-1-2-3(8)4(9)5(10)6(14-2)1...</td>\n",
       "      <td>Reaction_565</td>\n",
       "      <td>-1.267606</td>\n",
       "      <td>NaN</td>\n",
       "      <td>0000000000000100000000000000000000000000000000...</td>\n",
       "      <td>enzyme and substrate information</td>\n",
       "      <td>0.192417</td>\n",
       "    </tr>\n",
       "    <tr>\n",
       "      <th>...</th>\n",
       "      <td>...</td>\n",
       "      <td>...</td>\n",
       "      <td>...</td>\n",
       "      <td>...</td>\n",
       "      <td>...</td>\n",
       "      <td>...</td>\n",
       "      <td>...</td>\n",
       "      <td>...</td>\n",
       "    </tr>\n",
       "    <tr>\n",
       "      <th>8979</th>\n",
       "      <td>MTERPRDCRPVVRRARTSDVPAIKQLVDTYAGKILLEKNLVTLYEA...</td>\n",
       "      <td>InChI=1S/C5H10N2O3/c6-3(5(9)10)1-2-4(7)8/h3H,1...</td>\n",
       "      <td>Reaction_1253</td>\n",
       "      <td>NaN</td>\n",
       "      <td>NaN</td>\n",
       "      <td>0100000000000000000000000000000000000000000000...</td>\n",
       "      <td>enzyme and substrate information</td>\n",
       "      <td>0.605696</td>\n",
       "    </tr>\n",
       "    <tr>\n",
       "      <th>8980</th>\n",
       "      <td>MTERPRDCRPVVRRARTSDVPAIKQLVDTYAGKILLEKNLVTLYEA...</td>\n",
       "      <td>InChI=1S/C23H38N7O17P3S/c1-12(31)51-7-6-25-14(...</td>\n",
       "      <td>Reaction_1253</td>\n",
       "      <td>NaN</td>\n",
       "      <td>NaN</td>\n",
       "      <td>1100100001000000000100000000000001000000000000...</td>\n",
       "      <td>enzyme and substrate information</td>\n",
       "      <td>0.032394</td>\n",
       "    </tr>\n",
       "    <tr>\n",
       "      <th>8981</th>\n",
       "      <td>MAKMRAVDAAMYVLEKEGITTAFGVPGAAINPFYSAMRKHGGIRHI...</td>\n",
       "      <td>InChI=1S/C2H2O3/c3-1-2(4)5/h1H,(H,4,5)</td>\n",
       "      <td>Reaction_1626</td>\n",
       "      <td>-0.045757</td>\n",
       "      <td>NaN</td>\n",
       "      <td>0000000000000000000000000000000000000000000000...</td>\n",
       "      <td>enzyme and substrate information</td>\n",
       "      <td>1.722921</td>\n",
       "    </tr>\n",
       "    <tr>\n",
       "      <th>8982</th>\n",
       "      <td>MGAQLSTLGHMVLFPVWFLYSLLMKLFQRSTPAITLESPDIKYPLR...</td>\n",
       "      <td>InChI=1S/6CN.Fe/c6*1-2;/q;;;;;;-3</td>\n",
       "      <td>Reaction_898</td>\n",
       "      <td>NaN</td>\n",
       "      <td>NaN</td>\n",
       "      <td>0000000000000100000000000000000000000000000000...</td>\n",
       "      <td>enzyme and substrate information</td>\n",
       "      <td>0.553386</td>\n",
       "    </tr>\n",
       "    <tr>\n",
       "      <th>8983</th>\n",
       "      <td>MGAQLSTLGHMVLFPVWFLYSLLMKLFQRSTPAITLESPDIKYPLR...</td>\n",
       "      <td>InChI=1S/C21H29N7O14P2/c22-17-12-19(25-7-24-17...</td>\n",
       "      <td>Reaction_898</td>\n",
       "      <td>NaN</td>\n",
       "      <td>NaN</td>\n",
       "      <td>0000000001000000000000000000100000000000000000...</td>\n",
       "      <td>enzyme and substrate information</td>\n",
       "      <td>0.359811</td>\n",
       "    </tr>\n",
       "  </tbody>\n",
       "</table>\n",
       "<p>8984 rows × 8 columns</p>\n",
       "</div>"
      ],
      "text/plain": [
       "                                               Sequence  \\\n",
       "0     MELFLAGRRVLVTGAGKGIGRGTVQALHATGARVVAVSRTQADLDS...   \n",
       "1     MELFLAGRRVLVTGAGKGIGRGTVQALHATGARVVAVSRTQADLDS...   \n",
       "2     MNYRYPPRYGPEWGSGGIYGLRFHNGTLYFTLAFEGEAHFITEDSH...   \n",
       "3     MNYRYPPRYGPEWGSGGIYGLRFHNGTLYFTLAFEGEAHFITEDSH...   \n",
       "4     MAVTAQAARRKERVLCLFDVDGTLTPARQKIDPEVAAFLQKLRSRV...   \n",
       "...                                                 ...   \n",
       "8979  MTERPRDCRPVVRRARTSDVPAIKQLVDTYAGKILLEKNLVTLYEA...   \n",
       "8980  MTERPRDCRPVVRRARTSDVPAIKQLVDTYAGKILLEKNLVTLYEA...   \n",
       "8981  MAKMRAVDAAMYVLEKEGITTAFGVPGAAINPFYSAMRKHGGIRHI...   \n",
       "8982  MGAQLSTLGHMVLFPVWFLYSLLMKLFQRSTPAITLESPDIKYPLR...   \n",
       "8983  MGAQLSTLGHMVLFPVWFLYSLLMKLFQRSTPAITLESPDIKYPLR...   \n",
       "\n",
       "                                           substrate ID    reaction ID  \\\n",
       "0     InChI=1S/C21H30N7O17P3/c22-17-12-19(25-7-24-17...   Reaction_127   \n",
       "1        InChI=1S/C6H10O2/c1-3-4-6(8)5(2)7/h3-4H2,1-2H3   Reaction_127   \n",
       "2                                     InChI=1S/H2O/h1H2   Reaction_796   \n",
       "3     InChI=1S/C12H15NO8/c14-5-8-9(15)10(16)11(17)12...   Reaction_796   \n",
       "4     InChI=1S/C6H13O9P/c7-1-2-3(8)4(9)5(10)6(14-2)1...   Reaction_565   \n",
       "...                                                 ...            ...   \n",
       "8979  InChI=1S/C5H10N2O3/c6-3(5(9)10)1-2-4(7)8/h3H,1...  Reaction_1253   \n",
       "8980  InChI=1S/C23H38N7O17P3S/c1-12(31)51-7-6-25-14(...  Reaction_1253   \n",
       "8981             InChI=1S/C2H2O3/c3-1-2(4)5/h1H,(H,4,5)  Reaction_1626   \n",
       "8982                  InChI=1S/6CN.Fe/c6*1-2;/q;;;;;;-3   Reaction_898   \n",
       "8983  InChI=1S/C21H29N7O14P2/c22-17-12-19(25-7-24-17...   Reaction_898   \n",
       "\n",
       "     KM BRENDA KM predicted  \\\n",
       "0          NaN          NaN   \n",
       "1          NaN          NaN   \n",
       "2          NaN          NaN   \n",
       "3          NaN          NaN   \n",
       "4    -1.267606          NaN   \n",
       "...        ...          ...   \n",
       "8979       NaN          NaN   \n",
       "8980       NaN          NaN   \n",
       "8981 -0.045757          NaN   \n",
       "8982       NaN          NaN   \n",
       "8983       NaN          NaN   \n",
       "\n",
       "                                                   ECFP  \\\n",
       "0     0000000001000000100000000000100000000000000000...   \n",
       "1     0000000000000000000000000000000001000000000000...   \n",
       "2     0000000000000000000000000000000000000000000000...   \n",
       "3     0000000000000100000000000000000000000011000000...   \n",
       "4     0000000000000100000000000000000000000000000000...   \n",
       "...                                                 ...   \n",
       "8979  0100000000000000000000000000000000000000000000...   \n",
       "8980  1100100001000000000100000000000001000000000000...   \n",
       "8981  0000000000000000000000000000000000000000000000...   \n",
       "8982  0000000000000100000000000000000000000000000000...   \n",
       "8983  0000000001000000000000000000100000000000000000...   \n",
       "\n",
       "                     prediction method  KM [mM] (predicted)  \n",
       "0     enzyme and substrate information             0.010457  \n",
       "1     enzyme and substrate information             0.227367  \n",
       "2     enzyme and substrate information             1.640480  \n",
       "3     enzyme and substrate information             0.067011  \n",
       "4     enzyme and substrate information             0.192417  \n",
       "...                                ...                  ...  \n",
       "8979  enzyme and substrate information             0.605696  \n",
       "8980  enzyme and substrate information             0.032394  \n",
       "8981  enzyme and substrate information             1.722921  \n",
       "8982  enzyme and substrate information             0.553386  \n",
       "8983  enzyme and substrate information             0.359811  \n",
       "\n",
       "[8984 rows x 8 columns]"
      ]
     },
     "execution_count": 11,
     "metadata": {},
     "output_type": "execute_result"
    }
   ],
   "source": [
    "df_KM"
   ]
  },
  {
   "cell_type": "code",
   "execution_count": 14,
   "metadata": {},
   "outputs": [],
   "source": [
    "df_KM[\"KM [mM] (predicted)\"] = np.log10(df_KM[\"KM [mM] (predicted)\"])"
   ]
  },
  {
   "cell_type": "code",
   "execution_count": 15,
   "metadata": {},
   "outputs": [
    {
     "data": {
      "image/png": "[encoded data removed]",
      "text/plain": [
       "<Figure size 432x288 with 1 Axes>"
      ]
     },
     "metadata": {
      "needs_background": "light"
     },
     "output_type": "display_data"
    },
    {
     "data": {
      "image/png": "[encoded data removed]",
      "text/plain": [
       "<Figure size 432x288 with 1 Axes>"
      ]
     },
     "metadata": {
      "needs_background": "light"
     },
     "output_type": "display_data"
    }
   ],
   "source": [
    "plt.hist(df_KM[\"KM [mM] (predicted)\"] , bins = 50)\n",
    "plt.show()\n",
    "\n",
    "plt.hist(df_KM[\"KM BRENDA\"], bins = 50)\n",
    "plt.show()"
   ]
  },
  {
   "cell_type": "markdown",
   "metadata": {},
   "source": [
    "### 4. Mapping KM values to training and test set:"
   ]
  },
  {
   "cell_type": "markdown",
   "metadata": {},
   "source": [
    "To calculate a KM value for a whole reaction, we take the geometric mean of the KM values if multiple substrates exist. If a value from BRENDA and a predicted KM value exist for an enzyme-substrate pair, we give preference to the value from BRENDA."
   ]
  },
  {
   "cell_type": "code",
   "execution_count": 27,
   "metadata": {},
   "outputs": [],
   "source": [
    "data_train[\"KM values\"] = \"\"\n",
    "\n",
    "for ind in data_train.index:\n",
    "    seq, r_ID = data_train[\"Sequence\"][ind], data_train[\"Reaction ID\"][ind] \n",
    "    help_df = df_KM.loc[df_KM[\"Sequence\"] == seq].loc[df_KM[\"reaction ID\"] == r_ID]\n",
    "    KM_values = []\n",
    "    \n",
    "    for ind2 in help_df.index:\n",
    "        if not pd.isnull(help_df[\"KM BRENDA\"][ind2]):\n",
    "            KM_values.append(help_df[\"KM BRENDA\"][ind2])\n",
    "        else:\n",
    "            KM_values.append(help_df[\"KM [mM] (predicted)\"][ind2])\n",
    "            \n",
    "    data_train[\"KM values\"][ind] = KM_values"
   ]
  },
  {
   "cell_type": "code",
   "execution_count": 28,
   "metadata": {},
   "outputs": [],
   "source": [
    "data_test[\"KM values\"] = \"\"\n",
    "\n",
    "for ind in data_test.index:\n",
    "    seq, r_ID = data_test[\"Sequence\"][ind], data_test[\"Reaction ID\"][ind] \n",
    "    help_df = df_KM.loc[df_KM[\"Sequence\"] == seq].loc[df_KM[\"reaction ID\"] == r_ID]\n",
    "    KM_values = []\n",
    "    \n",
    "    for ind2 in help_df.index:\n",
    "        if not pd.isnull(help_df[\"KM BRENDA\"][ind2]):\n",
    "            KM_values.append(help_df[\"KM BRENDA\"][ind2])\n",
    "        else:\n",
    "            KM_values.append(help_df[\"KM [mM] (predicted)\"][ind2])\n",
    "            \n",
    "    data_test[\"KM values\"][ind] = KM_values"
   ]
  },
  {
   "cell_type": "code",
   "execution_count": 29,
   "metadata": {},
   "outputs": [],
   "source": [
    "data_train.to_pickle(join(\"..\", \"..\", \"data\", \"kcat_data\", \"splits\", \"train_df_kcat_with_KM.pkl\"))\n",
    "data_test.to_pickle(join(\"..\", \"..\", \"data\", \"kcat_data\", \"splits\", \"test_df_kcat_with_KM.pkl\"))"
   ]
  }
 ],
 "metadata": {
  "kernelspec": {
   "display_name": "Python 3",
   "language": "python",
   "name": "python3"
  },
  "language_info": {
   "codemirror_mode": {
    "name": "ipython",
    "version": 3
   },
   "file_extension": ".py",
   "mimetype": "text/x-python",
   "name": "python",
   "nbconvert_exporter": "python",
   "pygments_lexer": "ipython3",
   "version": "3.7.7"
  }
 },
 "nbformat": 4,
 "nbformat_minor": 4
}
