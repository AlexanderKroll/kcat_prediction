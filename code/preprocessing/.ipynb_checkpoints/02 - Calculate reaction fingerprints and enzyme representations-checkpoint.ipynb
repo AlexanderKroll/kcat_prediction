{
 "cells": [
  {
   "cell_type": "code",
   "execution_count": 1,
   "metadata": {},
   "outputs": [],
   "source": [
    "import pandas as pd\n",
    "import numpy as np\n",
    "from os.path import join\n",
    "import os\n",
    "from rdkit import Chem\n",
    "from rdkit.Chem import AllChem\n",
    "from drfp import DrfpEncoder\n",
    "CURRENT_DIR = os.getcwd()"
   ]
  },
  {
   "cell_type": "markdown",
   "metadata": {},
   "source": [
    "## 1.Calculating reaction fingerprints for all reactions:"
   ]
  },
  {
   "cell_type": "code",
   "execution_count": 2,
   "metadata": {},
   "outputs": [
    {
     "data": {
      "text/html": [
       "<div>\n",
       "<style scoped>\n",
       "    .dataframe tbody tr th:only-of-type {\n",
       "        vertical-align: middle;\n",
       "    }\n",
       "\n",
       "    .dataframe tbody tr th {\n",
       "        vertical-align: top;\n",
       "    }\n",
       "\n",
       "    .dataframe thead th {\n",
       "        text-align: right;\n",
       "    }\n",
       "</style>\n",
       "<table border=\"1\" class=\"dataframe\">\n",
       "  <thead>\n",
       "    <tr style=\"text-align: right;\">\n",
       "      <th></th>\n",
       "      <th>substrate_InChI_set</th>\n",
       "      <th>product_InChI_set</th>\n",
       "      <th>Reaction ID</th>\n",
       "      <th>MW_frac</th>\n",
       "    </tr>\n",
       "  </thead>\n",
       "  <tbody>\n",
       "    <tr>\n",
       "      <th>0</th>\n",
       "      <td>{InChI=1S/C8H8O3/c9-7(8(10)11)6-4-2-1-3-5-6/h1...</td>\n",
       "      <td>{InChI=1S/C17H23N4O9P/c1-7-3-9-10(4-8(7)2)21(1...</td>\n",
       "      <td>Reaction_0</td>\n",
       "      <td>1.000000</td>\n",
       "    </tr>\n",
       "    <tr>\n",
       "      <th>1</th>\n",
       "      <td>{InChI=1S/C17H23N4O9P/c1-7-3-9-10(4-8(7)2)21(1...</td>\n",
       "      <td>{InChI=1S/H2O2/c1-2/h1-2H, InChI=1S/C17H21N4O9...</td>\n",
       "      <td>Reaction_1</td>\n",
       "      <td>1.000000</td>\n",
       "    </tr>\n",
       "    <tr>\n",
       "      <th>2</th>\n",
       "      <td>{InChI=1S/C21H28N7O17P3/c22-17-12-19(25-7-24-1...</td>\n",
       "      <td>{InChI=1S/C21H30N7O17P3/c22-17-12-19(25-7-24-1...</td>\n",
       "      <td>Reaction_2</td>\n",
       "      <td>1.000000</td>\n",
       "    </tr>\n",
       "    <tr>\n",
       "      <th>3</th>\n",
       "      <td>{InChI=1S/C16H28N2O11/c1-5(21)17-9-13(25)14(8(...</td>\n",
       "      <td>{InChI=1S/C8H15NO6/c1-3(11)9-5-7(13)6(12)4(2-1...</td>\n",
       "      <td>Reaction_3</td>\n",
       "      <td>2.000000</td>\n",
       "    </tr>\n",
       "    <tr>\n",
       "      <th>4</th>\n",
       "      <td>{InChI=1S/C3H7O7P/c4-1-2(3(5)6)10-11(7,8)9/h2,...</td>\n",
       "      <td>{InChI=1S/C3H5O6P/c1-2(3(4)5)9-10(6,7)8/h1H2,(...</td>\n",
       "      <td>Reaction_4</td>\n",
       "      <td>1.000000</td>\n",
       "    </tr>\n",
       "    <tr>\n",
       "      <th>...</th>\n",
       "      <td>...</td>\n",
       "      <td>...</td>\n",
       "      <td>...</td>\n",
       "      <td>...</td>\n",
       "    </tr>\n",
       "    <tr>\n",
       "      <th>4434</th>\n",
       "      <td>{InChI=1S/C34H58N7O21P3S/c1-18(58-33-21(43)13-...</td>\n",
       "      <td>{InChI=1S/H2O2/c1-2/h1-2H, InChI=1S/C34H56N7O2...</td>\n",
       "      <td>Reaction_4434</td>\n",
       "      <td>1.000000</td>\n",
       "    </tr>\n",
       "    <tr>\n",
       "      <th>4435</th>\n",
       "      <td>{InChI=1S/C11H19NO8/c1-4(10(16)17)19-9-7(12-5(...</td>\n",
       "      <td>{InChI=1S/C11H20NO11P/c1-4(10(16)17)21-9-7(12-...</td>\n",
       "      <td>Reaction_4435</td>\n",
       "      <td>1.000000</td>\n",
       "    </tr>\n",
       "    <tr>\n",
       "      <th>4436</th>\n",
       "      <td>{InChI=1S/C8H15NO6/c1-3(11)9-5-7(13)6(12)4(2-1...</td>\n",
       "      <td>{InChI=1S/p+1, InChI=1S/C10H15N5O10P2/c11-8-5-...</td>\n",
       "      <td>Reaction_4436</td>\n",
       "      <td>1.000000</td>\n",
       "    </tr>\n",
       "    <tr>\n",
       "      <th>4437</th>\n",
       "      <td>{InChI=1S/C17H23N4O9P/c1-7-3-9-10(4-8(7)2)21(1...</td>\n",
       "      <td>{InChI=1S/C16H12O5/c1-20-10-3-5-11(14(18)7-10)...</td>\n",
       "      <td>Reaction_4437</td>\n",
       "      <td>0.998668</td>\n",
       "    </tr>\n",
       "    <tr>\n",
       "      <th>4438</th>\n",
       "      <td>{InChI=1S/C23H37FN7O17P3S/c1-23(2,18(35)21(36)...</td>\n",
       "      <td>{InChI=1S/C21H36N7O16P3S/c1-21(2,16(31)19(32)2...</td>\n",
       "      <td>Reaction_4438</td>\n",
       "      <td>1.000000</td>\n",
       "    </tr>\n",
       "  </tbody>\n",
       "</table>\n",
       "<p>4439 rows × 4 columns</p>\n",
       "</div>"
      ],
      "text/plain": [
       "                                    substrate_InChI_set  \\\n",
       "0     {InChI=1S/C8H8O3/c9-7(8(10)11)6-4-2-1-3-5-6/h1...   \n",
       "1     {InChI=1S/C17H23N4O9P/c1-7-3-9-10(4-8(7)2)21(1...   \n",
       "2     {InChI=1S/C21H28N7O17P3/c22-17-12-19(25-7-24-1...   \n",
       "3     {InChI=1S/C16H28N2O11/c1-5(21)17-9-13(25)14(8(...   \n",
       "4     {InChI=1S/C3H7O7P/c4-1-2(3(5)6)10-11(7,8)9/h2,...   \n",
       "...                                                 ...   \n",
       "4434  {InChI=1S/C34H58N7O21P3S/c1-18(58-33-21(43)13-...   \n",
       "4435  {InChI=1S/C11H19NO8/c1-4(10(16)17)19-9-7(12-5(...   \n",
       "4436  {InChI=1S/C8H15NO6/c1-3(11)9-5-7(13)6(12)4(2-1...   \n",
       "4437  {InChI=1S/C17H23N4O9P/c1-7-3-9-10(4-8(7)2)21(1...   \n",
       "4438  {InChI=1S/C23H37FN7O17P3S/c1-23(2,18(35)21(36)...   \n",
       "\n",
       "                                      product_InChI_set    Reaction ID  \\\n",
       "0     {InChI=1S/C17H23N4O9P/c1-7-3-9-10(4-8(7)2)21(1...     Reaction_0   \n",
       "1     {InChI=1S/H2O2/c1-2/h1-2H, InChI=1S/C17H21N4O9...     Reaction_1   \n",
       "2     {InChI=1S/C21H30N7O17P3/c22-17-12-19(25-7-24-1...     Reaction_2   \n",
       "3     {InChI=1S/C8H15NO6/c1-3(11)9-5-7(13)6(12)4(2-1...     Reaction_3   \n",
       "4     {InChI=1S/C3H5O6P/c1-2(3(4)5)9-10(6,7)8/h1H2,(...     Reaction_4   \n",
       "...                                                 ...            ...   \n",
       "4434  {InChI=1S/H2O2/c1-2/h1-2H, InChI=1S/C34H56N7O2...  Reaction_4434   \n",
       "4435  {InChI=1S/C11H20NO11P/c1-4(10(16)17)21-9-7(12-...  Reaction_4435   \n",
       "4436  {InChI=1S/p+1, InChI=1S/C10H15N5O10P2/c11-8-5-...  Reaction_4436   \n",
       "4437  {InChI=1S/C16H12O5/c1-20-10-3-5-11(14(18)7-10)...  Reaction_4437   \n",
       "4438  {InChI=1S/C21H36N7O16P3S/c1-21(2,16(31)19(32)2...  Reaction_4438   \n",
       "\n",
       "       MW_frac  \n",
       "0     1.000000  \n",
       "1     1.000000  \n",
       "2     1.000000  \n",
       "3     2.000000  \n",
       "4     1.000000  \n",
       "...        ...  \n",
       "4434  1.000000  \n",
       "4435  1.000000  \n",
       "4436  1.000000  \n",
       "4437  0.998668  \n",
       "4438  1.000000  \n",
       "\n",
       "[4439 rows x 4 columns]"
      ]
     },
     "execution_count": 2,
     "metadata": {},
     "output_type": "execute_result"
    }
   ],
   "source": [
    "df_reactions = pd.read_pickle(join(\"..\", \"..\", \"data\", \"reaction_data\", \"all_reactions_with_IDs.pkl\"))\n",
    "df_reactions"
   ]
  },
  {
   "cell_type": "code",
   "execution_count": 3,
   "metadata": {},
   "outputs": [],
   "source": [
    "mol_folder = join(\"..\", \"..\", \"data\", \"metabolite_data\", \"mol-files\")\n",
    "def get_reaction_site_smarts(metabolites):\n",
    "    reaction_site = \"\"\n",
    "    for met in metabolites:\n",
    "        is_kegg_id = False\n",
    "        \n",
    "        if met[0] == \"C\":\n",
    "            is_kegg_id = True\n",
    "            \n",
    "        if is_kegg_id:\n",
    "            try:\n",
    "                Smarts = Chem.MolToSmarts(Chem.MolFromMolFile(join(mol_folder, met + '.mol')))\n",
    "            except OSError:\n",
    "                return(np.nan)\n",
    "        else:\n",
    "            mol = Chem.inchi.MolFromInchi(met)\n",
    "            if mol is not None:\n",
    "                Smarts = Chem.MolToSmarts(mol)\n",
    "            else:\n",
    "                return(np.nan)\n",
    "        reaction_site = reaction_site + \".\" + Smarts\n",
    "    return(reaction_site[1:])\n",
    "\n",
    "def get_reaction_site_smiles(metabolites):\n",
    "    reaction_site = \"\"\n",
    "    for met in metabolites:\n",
    "        is_kegg_id = False\n",
    "        \n",
    "        if met[0] == \"C\":\n",
    "            is_kegg_id = True\n",
    "            \n",
    "        if is_kegg_id:\n",
    "            try:\n",
    "                Smarts = Chem.MolToSmiles(Chem.MolFromMolFile(join(mol_folder, met + '.mol')))\n",
    "            except OSError:\n",
    "                return(np.nan)\n",
    "        else:\n",
    "            mol = Chem.inchi.MolFromInchi(met)\n",
    "            if mol is not None:\n",
    "                Smarts = Chem.MolToSmiles(mol)\n",
    "            else:\n",
    "                return(np.nan)\n",
    "        reaction_site = reaction_site + \".\" + Smarts\n",
    "    return(reaction_site[1:])\n",
    "\n",
    "def convert_fp_to_array(difference_fp_dict):\n",
    "    fp = np.zeros(2048)\n",
    "    for key in difference_fp_dict.keys():\n",
    "        fp[key] = difference_fp_dict[key]\n",
    "    return(fp)"
   ]
  },
  {
   "cell_type": "code",
   "execution_count": null,
   "metadata": {},
   "outputs": [],
   "source": [
    "df_reactions[\"structural_fp\"], df_reactions[\"difference_fp\"], df_reactions[\"DRFP\"] = \"\", \"\", \"\"\n",
    "df_reactions[\"#substrates\"], df_reactions[\"#products\"] = \"\", \"\"\n",
    "\n",
    "for ind in df_reactions.index:\n",
    "    substrates = list(df_reactions[\"substrate_InChI_set\"][ind])\n",
    "    products = list(df_reactions[\"product_InChI_set\"][ind])\n",
    "    try:\n",
    "        left_site = get_reaction_site_smarts(substrates)\n",
    "        right_site = get_reaction_site_smarts(products)\n",
    "        if not pd.isnull(left_site) and not pd.isnull(right_site):\n",
    "\n",
    "            rxn_forward = AllChem.ReactionFromSmarts(left_site + \">>\" + right_site)\n",
    "\n",
    "            difference_fp = Chem.rdChemReactions.CreateDifferenceFingerprintForReaction(rxn_forward)\n",
    "            difference_fp = convert_fp_to_array(difference_fp.GetNonzeroElements())\n",
    "            structural_fp = Chem.rdChemReactions.CreateStructuralFingerprintForReaction(rxn_forward).ToBitString()\n",
    "            \n",
    "            left_site = get_reaction_site_smiles(substrates)\n",
    "            right_site = get_reaction_site_smiles(products)\n",
    "            drfp = DrfpEncoder.encode(left_site + \">>\" + right_site)[0]\n",
    "\n",
    "            df_reactions[\"DRFP\"][ind] = drfp\n",
    "            df_reactions[\"structural_fp\"][ind] = structural_fp\n",
    "            df_reactions[\"difference_fp\"][ind] = difference_fp\n",
    "            df_reactions[\"#substrates\"][ind] = len(substrates)\n",
    "            df_reactions[\"#products\"][ind] = len(products)\n",
    "    except IndexError:\n",
    "        pass"
   ]
  },
  {
   "cell_type": "code",
   "execution_count": 5,
   "metadata": {},
   "outputs": [],
   "source": [
    "df_reactions.to_pickle(join(\"..\", \"..\", \"data\", \"reaction_data\", \"all_reactions_with_IDs_and_FPs.pkl\"))"
   ]
  },
  {
   "cell_type": "code",
   "execution_count": 3,
   "metadata": {},
   "outputs": [],
   "source": [
    "import pickle5 as p\n",
    "with open(join(\"..\", \"..\", \"data\", \"reaction_data\", \"all_reactions_with_IDs_and_FPs.pkl\"), \"rb\") as fh:\n",
    "    data = p.load(fh)"
   ]
  },
  {
   "cell_type": "markdown",
   "metadata": {},
   "source": [
    "## 2. Calculating ESM1b vectors for all sequences: "
   ]
  },
  {
   "cell_type": "code",
   "execution_count": 2,
   "metadata": {},
   "outputs": [],
   "source": [
    "df_sequences = pd.read_pickle(join(\"..\", \"..\", \"data\", \"enzyme_data\", \"all_sequences_with_IDs.pkl\"))"
   ]
  },
  {
   "cell_type": "markdown",
   "metadata": {},
   "source": [
    "The ESM-1b model takes a FASTA file with the enzymes' amino acid sequences as its input. Creating a FASTA file with enzyme sequences:"
   ]
  },
  {
   "cell_type": "code",
   "execution_count": 3,
   "metadata": {},
   "outputs": [],
   "source": [
    "ofile = open(join(\"..\", \"..\", \"data\", \"enzyme_data\",\n",
    "                  \"all_sequences_kcat_esm1b.fasta\"), \"w\")\n",
    "for ind in df_sequences.index:\n",
    "    seq = df_sequences[\"Sequence\"][ind]\n",
    "    if not pd.isnull(seq):\n",
    "        ofile.write(\">\" + str(ind) + \"\\n\" + seq[:1020]  + \"\\n\")\n",
    "ofile.close()"
   ]
  },
  {
   "cell_type": "markdown",
   "metadata": {},
   "source": [
    "To calculate the ESM-1b vectors, we used the model and code provided by the Facebook Research team: https://github.com/facebookresearch/esm. The following command line was used to calculate the representations:\n",
    "\n",
    "python extract.py esm1b_t33_650M_UR50S \\path_to_fasta_file\\all_sequences_kcat_esm1b.fasta \\path_to_store_representations\\all_sequences_kcat_esm1b--repr_layers 33 --include mean\n",
    "\n",
    "Loading ESM-1b-vectors and storing them in the UniProt DataFrame. All representations were merged into one dictionary:\n"
   ]
  },
  {
   "cell_type": "markdown",
   "metadata": {},
   "source": [
    "The code and the models to create the task-specififc ESM-1b vectors can be found in the following GitHub repository: https://github.com/AlexanderKroll/SubFinder"
   ]
  },
  {
   "cell_type": "code",
   "execution_count": 4,
   "metadata": {},
   "outputs": [],
   "source": [
    "import torch\n",
    "rep_dict = torch.load(join(\"..\", \"..\", \"data\", \"enzyme_data\", \"all_sequences_kcat_esm1b.pt\"))\n",
    "\n",
    "df_sequences[\"ESM1b\"] = \"\"\n",
    "for ind in df_sequences.index:\n",
    "    if not pd.isnull(df_sequences[\"Sequence\"][ind]):        \n",
    "        df_sequences[\"ESM1b\"][ind] = rep_dict[str(ind)+\".pt\"]"
   ]
  },
  {
   "cell_type": "code",
   "execution_count": 5,
   "metadata": {},
   "outputs": [],
   "source": [
    "import torch\n",
    "rep_dict = torch.load(join(\"..\", \"..\", \"data\", \"enzyme_data\", \"all_sequences_kcat_esm1b_ts.pt\"))\n",
    "\n",
    "df_sequences[\"ESM1b_ts\"] = \"\"\n",
    "for ind in df_sequences.index:\n",
    "    if not pd.isnull(df_sequences[\"Sequence\"][ind]):        \n",
    "        df_sequences[\"ESM1b_ts\"][ind] = rep_dict[str(ind)+\".pt\"]"
   ]
  },
  {
   "cell_type": "code",
   "execution_count": 6,
   "metadata": {},
   "outputs": [],
   "source": [
    "df_sequences.to_pickle(join(\"..\", \"..\", \"data\", \"enzyme_data\", \"all_sequences_with_IDs_and_ESM1b_ts.pkl\"))"
   ]
  }
 ],
 "metadata": {
  "kernelspec": {
   "display_name": "Python 3 (ipykernel)",
   "language": "python",
   "name": "python3"
  },
  "language_info": {
   "codemirror_mode": {
    "name": "ipython",
    "version": 3
   },
   "file_extension": ".py",
   "mimetype": "text/x-python",
   "name": "python",
   "nbconvert_exporter": "python",
   "pygments_lexer": "ipython3",
   "version": "3.7.13"
  }
 },
 "nbformat": 4,
 "nbformat_minor": 4
}
